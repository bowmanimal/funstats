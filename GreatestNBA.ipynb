{
  "nbformat": 4,
  "nbformat_minor": 0,
  "metadata": {
    "colab": {
      "name": "GreatestNBA.ipynb",
      "provenance": [],
      "authorship_tag": "ABX9TyNRmikzQGTJSygPo5pO1NUE",
      "include_colab_link": true
    },
    "kernelspec": {
      "name": "ir",
      "display_name": "R"
    },
    "language_info": {
      "name": "R"
    }
  },
  "cells": [
    {
      "cell_type": "markdown",
      "metadata": {
        "id": "view-in-github",
        "colab_type": "text"
      },
      "source": [
        "<a href=\"https://colab.research.google.com/github/bowmanimal/funstats/blob/main/GreatestNBA.ipynb\" target=\"_parent\"><img src=\"https://colab.research.google.com/assets/colab-badge.svg\" alt=\"Open In Colab\"/></a>"
      ]
    },
    {
      "cell_type": "markdown",
      "metadata": {
        "id": "Orn2x9wGN3WU"
      },
      "source": [
        "Did the typical 1996 Chicago Bull perform better than the typical 2017 Golden State Warrior?\n",
        "First, download the file \"greatestNBA.csv\" from the course website, and upload it to this environment by clicking the little folder icon on the way left (underneath the {x} thing) and clicking upload (the little file with the up arrow on it). "
      ]
    },
    {
      "cell_type": "markdown",
      "metadata": {
        "id": "GiJWlZQVOQt5"
      },
      "source": [
        "Then, when ready, hit play on the code below as you go. If you have the data loaded properly at first, you should be able to see it!"
      ]
    },
    {
      "cell_type": "code",
      "metadata": {
        "colab": {
          "base_uri": "https://localhost:8080/",
          "height": 1000
        },
        "id": "nAoh8kOzL3vy",
        "outputId": "5466f1c3-f230-4db9-af1c-b8e7c6082374"
      },
      "source": [
        "greatestNBA <- read.csv(\"greatestNBA.csv\")\n",
        "greatestNBA"
      ],
      "execution_count": null,
      "outputs": [
        {
          "output_type": "display_data",
          "data": {
            "text/plain": [
              "   name                 team  age points minutesPlayed fieldGoalPercentage\n",
              "1  Michael Jordan       96CHI 32  30.4   37.7          0.495              \n",
              "2  Scottie Pippen       96CHI 30  19.4   36.7          0.463              \n",
              "3  Dennis Rodman        96CHI 34   5.5   32.6          0.480              \n",
              "4  Luc Longley          96CHI 27   9.1   26.5          0.482              \n",
              "5  Toni Kukoc           96CHI 27  13.1   26.0          0.490              \n",
              "6  Ron Harper           96CHI 32   7.4   23.6          0.467              \n",
              "7  Steve Kerr           96CHI 30   8.4   23.4          0.506              \n",
              "8  Bill Wennington      96CHI 32   5.3   15.0          0.493              \n",
              "9  Dickey Simpkins      96CHI 23   3.6   11.4          0.481              \n",
              "10 John Salley          96CHI 31   2.1   11.2          0.343              \n",
              "11 Jud Buechler         96CHI 27   3.8   10.0          0.463              \n",
              "12 Randy Brown          96CHI 27   2.7    9.9          0.406              \n",
              "13 James Edwards        96CHI 40   3.5    9.8          0.373              \n",
              "14 Jason Caffey         96CHI 22   3.2    9.6          0.438              \n",
              "15 Jack Haley           96CHI 32   5.0    7.0          0.333              \n",
              "16 Klay Thompson        17GSW 26  22.3   34.0          0.468              \n",
              "17 Stephen Curry        17GSW 28  25.3   33.4          0.468              \n",
              "18 Kevin Durant         17GSW 28  25.1   33.4          0.537              \n",
              "19 Draymond Green       17GSW 26  10.2   32.5          0.418              \n",
              "20 Andre Iguodala       17GSW 33   7.6   26.3          0.528              \n",
              "21 Matt Barnes          17GSW 36   5.7   20.5          0.422              \n",
              "22 Zaza Pachulia        17GSW 32   6.1   18.1          0.534              \n",
              "23 Shaun Livingston     17GSW 31   5.1   17.7          0.547              \n",
              "24 Patrick McCaw        17GSW 21   4.0   15.1          0.433              \n",
              "25 Ian Clark            17GSW 25   6.8   14.8          0.487              \n",
              "26 David West           17GSW 36   4.6   12.6          0.536              \n",
              "27 JaVale McGee         17GSW 29   6.1    9.6          0.652              \n",
              "28 James Michael McAdoo 17GSW 24   2.8    8.8          0.530              \n",
              "29 Damian Jones         17GSW 21   1.9    8.5          0.500              \n",
              "30 Kevon Looney         17GSW 20   2.5    8.4          0.523              \n",
              "31 Anderson Varejao     17GSW 34   1.3    6.6          0.357              \n",
              "32 Briante Weber        17GSW 24   1.7    6.6          0.357              \n",
              "   X3Pointers X2Pointers freeThrows rebounds assists steals blocks\n",
              "1  1.4        9.8        6.7         6.6     4.3     2.2    0.5   \n",
              "2  1.9        5.4        2.9         6.4     5.9     1.7    0.7   \n",
              "3  0.0        2.2        0.9        14.9     2.5     0.6    0.4   \n",
              "4  0.0        3.9        1.3         5.1     1.9     0.4    1.4   \n",
              "5  1.1        3.7        2.5         4.0     3.5     0.8    0.3   \n",
              "6  0.4        2.6        1.2         2.7     2.6     1.3    0.4   \n",
              "7  1.5        1.5        1.0         1.3     2.3     0.8    0.0   \n",
              "8  0.0        2.4        0.5         2.5     0.6     0.3    0.2   \n",
              "9  0.0        1.3        1.0         2.6     0.6     0.2    0.1   \n",
              "10 0.0        0.7        0.7         2.5     0.9     0.5    0.9   \n",
              "11 0.5        1.0        0.2         1.5     0.8     0.5    0.1   \n",
              "12 0.0        1.1        0.4         1.0     1.1     0.8    0.2   \n",
              "13 0.0        1.5        0.6         1.4     0.4     0.0    0.3   \n",
              "14 0.0        1.2        0.7         1.9     0.4     0.2    0.1   \n",
              "15 0.0        2.0        1.0         2.0     0.0     0.0    0.0   \n",
              "16 3.4        4.8        2.4         3.7     2.1     0.8    0.5   \n",
              "17 4.1        4.4        4.1         4.5     6.6     1.8    0.2   \n",
              "18 1.9        7.0        5.4         8.3     4.8     1.1    1.6   \n",
              "19 1.1        2.5        2.0         7.9     7.0     2.0    1.4   \n",
              "20 0.8        2.0        0.9         4.0     3.4     1.0    0.5   \n",
              "21 0.9        1.0        1.0         4.6     2.3     0.6    0.5   \n",
              "22 0.0        2.3        1.4         5.9     1.9     0.8    0.5   \n",
              "23 0.0        2.3        0.6         2.0     1.8     0.5    0.3   \n",
              "24 0.6        0.9        0.4         1.4     1.1     0.5    0.2   \n",
              "25 0.8        1.9        0.6         1.6     1.2     0.5    0.1   \n",
              "26 0.0        1.9        0.6         3.0     2.2     0.6    0.7   \n",
              "27 0.0        2.7        0.7         3.2     0.2     0.2    0.9   \n",
              "28 0.0        1.2        0.4         1.7     0.3     0.3    0.6   \n",
              "29 0.0        0.8        0.3         2.3     0.0     0.1    0.4   \n",
              "30 0.0        1.0        0.4         2.3     0.5     0.3    0.3   \n",
              "31 0.0        0.4        0.6         1.9     0.7     0.2    0.2   \n",
              "32 0.0        0.7        0.3         0.6     0.7     0.4    0.1   "
            ],
            "text/latex": "A data.frame: 32 × 13\n\\begin{tabular}{lllllllllllll}\n name & team & age & points & minutesPlayed & fieldGoalPercentage & X3Pointers & X2Pointers & freeThrows & rebounds & assists & steals & blocks\\\\\n <chr> & <chr> & <int> & <dbl> & <dbl> & <dbl> & <dbl> & <dbl> & <dbl> & <dbl> & <dbl> & <dbl> & <dbl>\\\\\n\\hline\n\t Michael Jordan       & 96CHI & 32 & 30.4 & 37.7 & 0.495 & 1.4 & 9.8 & 6.7 &  6.6 & 4.3 & 2.2 & 0.5\\\\\n\t Scottie Pippen       & 96CHI & 30 & 19.4 & 36.7 & 0.463 & 1.9 & 5.4 & 2.9 &  6.4 & 5.9 & 1.7 & 0.7\\\\\n\t Dennis Rodman        & 96CHI & 34 &  5.5 & 32.6 & 0.480 & 0.0 & 2.2 & 0.9 & 14.9 & 2.5 & 0.6 & 0.4\\\\\n\t Luc Longley          & 96CHI & 27 &  9.1 & 26.5 & 0.482 & 0.0 & 3.9 & 1.3 &  5.1 & 1.9 & 0.4 & 1.4\\\\\n\t Toni Kukoc           & 96CHI & 27 & 13.1 & 26.0 & 0.490 & 1.1 & 3.7 & 2.5 &  4.0 & 3.5 & 0.8 & 0.3\\\\\n\t Ron Harper           & 96CHI & 32 &  7.4 & 23.6 & 0.467 & 0.4 & 2.6 & 1.2 &  2.7 & 2.6 & 1.3 & 0.4\\\\\n\t Steve Kerr           & 96CHI & 30 &  8.4 & 23.4 & 0.506 & 1.5 & 1.5 & 1.0 &  1.3 & 2.3 & 0.8 & 0.0\\\\\n\t Bill Wennington      & 96CHI & 32 &  5.3 & 15.0 & 0.493 & 0.0 & 2.4 & 0.5 &  2.5 & 0.6 & 0.3 & 0.2\\\\\n\t Dickey Simpkins      & 96CHI & 23 &  3.6 & 11.4 & 0.481 & 0.0 & 1.3 & 1.0 &  2.6 & 0.6 & 0.2 & 0.1\\\\\n\t John Salley          & 96CHI & 31 &  2.1 & 11.2 & 0.343 & 0.0 & 0.7 & 0.7 &  2.5 & 0.9 & 0.5 & 0.9\\\\\n\t Jud Buechler         & 96CHI & 27 &  3.8 & 10.0 & 0.463 & 0.5 & 1.0 & 0.2 &  1.5 & 0.8 & 0.5 & 0.1\\\\\n\t Randy Brown          & 96CHI & 27 &  2.7 &  9.9 & 0.406 & 0.0 & 1.1 & 0.4 &  1.0 & 1.1 & 0.8 & 0.2\\\\\n\t James Edwards        & 96CHI & 40 &  3.5 &  9.8 & 0.373 & 0.0 & 1.5 & 0.6 &  1.4 & 0.4 & 0.0 & 0.3\\\\\n\t Jason Caffey         & 96CHI & 22 &  3.2 &  9.6 & 0.438 & 0.0 & 1.2 & 0.7 &  1.9 & 0.4 & 0.2 & 0.1\\\\\n\t Jack Haley           & 96CHI & 32 &  5.0 &  7.0 & 0.333 & 0.0 & 2.0 & 1.0 &  2.0 & 0.0 & 0.0 & 0.0\\\\\n\t Klay Thompson        & 17GSW & 26 & 22.3 & 34.0 & 0.468 & 3.4 & 4.8 & 2.4 &  3.7 & 2.1 & 0.8 & 0.5\\\\\n\t Stephen Curry        & 17GSW & 28 & 25.3 & 33.4 & 0.468 & 4.1 & 4.4 & 4.1 &  4.5 & 6.6 & 1.8 & 0.2\\\\\n\t Kevin Durant         & 17GSW & 28 & 25.1 & 33.4 & 0.537 & 1.9 & 7.0 & 5.4 &  8.3 & 4.8 & 1.1 & 1.6\\\\\n\t Draymond Green       & 17GSW & 26 & 10.2 & 32.5 & 0.418 & 1.1 & 2.5 & 2.0 &  7.9 & 7.0 & 2.0 & 1.4\\\\\n\t Andre Iguodala       & 17GSW & 33 &  7.6 & 26.3 & 0.528 & 0.8 & 2.0 & 0.9 &  4.0 & 3.4 & 1.0 & 0.5\\\\\n\t Matt Barnes          & 17GSW & 36 &  5.7 & 20.5 & 0.422 & 0.9 & 1.0 & 1.0 &  4.6 & 2.3 & 0.6 & 0.5\\\\\n\t Zaza Pachulia        & 17GSW & 32 &  6.1 & 18.1 & 0.534 & 0.0 & 2.3 & 1.4 &  5.9 & 1.9 & 0.8 & 0.5\\\\\n\t Shaun Livingston     & 17GSW & 31 &  5.1 & 17.7 & 0.547 & 0.0 & 2.3 & 0.6 &  2.0 & 1.8 & 0.5 & 0.3\\\\\n\t Patrick McCaw        & 17GSW & 21 &  4.0 & 15.1 & 0.433 & 0.6 & 0.9 & 0.4 &  1.4 & 1.1 & 0.5 & 0.2\\\\\n\t Ian Clark            & 17GSW & 25 &  6.8 & 14.8 & 0.487 & 0.8 & 1.9 & 0.6 &  1.6 & 1.2 & 0.5 & 0.1\\\\\n\t David West           & 17GSW & 36 &  4.6 & 12.6 & 0.536 & 0.0 & 1.9 & 0.6 &  3.0 & 2.2 & 0.6 & 0.7\\\\\n\t JaVale McGee         & 17GSW & 29 &  6.1 &  9.6 & 0.652 & 0.0 & 2.7 & 0.7 &  3.2 & 0.2 & 0.2 & 0.9\\\\\n\t James Michael McAdoo & 17GSW & 24 &  2.8 &  8.8 & 0.530 & 0.0 & 1.2 & 0.4 &  1.7 & 0.3 & 0.3 & 0.6\\\\\n\t Damian Jones         & 17GSW & 21 &  1.9 &  8.5 & 0.500 & 0.0 & 0.8 & 0.3 &  2.3 & 0.0 & 0.1 & 0.4\\\\\n\t Kevon Looney         & 17GSW & 20 &  2.5 &  8.4 & 0.523 & 0.0 & 1.0 & 0.4 &  2.3 & 0.5 & 0.3 & 0.3\\\\\n\t Anderson Varejao     & 17GSW & 34 &  1.3 &  6.6 & 0.357 & 0.0 & 0.4 & 0.6 &  1.9 & 0.7 & 0.2 & 0.2\\\\\n\t Briante Weber        & 17GSW & 24 &  1.7 &  6.6 & 0.357 & 0.0 & 0.7 & 0.3 &  0.6 & 0.7 & 0.4 & 0.1\\\\\n\\end{tabular}\n",
            "text/markdown": "\nA data.frame: 32 × 13\n\n| name &lt;chr&gt; | team &lt;chr&gt; | age &lt;int&gt; | points &lt;dbl&gt; | minutesPlayed &lt;dbl&gt; | fieldGoalPercentage &lt;dbl&gt; | X3Pointers &lt;dbl&gt; | X2Pointers &lt;dbl&gt; | freeThrows &lt;dbl&gt; | rebounds &lt;dbl&gt; | assists &lt;dbl&gt; | steals &lt;dbl&gt; | blocks &lt;dbl&gt; |\n|---|---|---|---|---|---|---|---|---|---|---|---|---|\n| Michael Jordan       | 96CHI | 32 | 30.4 | 37.7 | 0.495 | 1.4 | 9.8 | 6.7 |  6.6 | 4.3 | 2.2 | 0.5 |\n| Scottie Pippen       | 96CHI | 30 | 19.4 | 36.7 | 0.463 | 1.9 | 5.4 | 2.9 |  6.4 | 5.9 | 1.7 | 0.7 |\n| Dennis Rodman        | 96CHI | 34 |  5.5 | 32.6 | 0.480 | 0.0 | 2.2 | 0.9 | 14.9 | 2.5 | 0.6 | 0.4 |\n| Luc Longley          | 96CHI | 27 |  9.1 | 26.5 | 0.482 | 0.0 | 3.9 | 1.3 |  5.1 | 1.9 | 0.4 | 1.4 |\n| Toni Kukoc           | 96CHI | 27 | 13.1 | 26.0 | 0.490 | 1.1 | 3.7 | 2.5 |  4.0 | 3.5 | 0.8 | 0.3 |\n| Ron Harper           | 96CHI | 32 |  7.4 | 23.6 | 0.467 | 0.4 | 2.6 | 1.2 |  2.7 | 2.6 | 1.3 | 0.4 |\n| Steve Kerr           | 96CHI | 30 |  8.4 | 23.4 | 0.506 | 1.5 | 1.5 | 1.0 |  1.3 | 2.3 | 0.8 | 0.0 |\n| Bill Wennington      | 96CHI | 32 |  5.3 | 15.0 | 0.493 | 0.0 | 2.4 | 0.5 |  2.5 | 0.6 | 0.3 | 0.2 |\n| Dickey Simpkins      | 96CHI | 23 |  3.6 | 11.4 | 0.481 | 0.0 | 1.3 | 1.0 |  2.6 | 0.6 | 0.2 | 0.1 |\n| John Salley          | 96CHI | 31 |  2.1 | 11.2 | 0.343 | 0.0 | 0.7 | 0.7 |  2.5 | 0.9 | 0.5 | 0.9 |\n| Jud Buechler         | 96CHI | 27 |  3.8 | 10.0 | 0.463 | 0.5 | 1.0 | 0.2 |  1.5 | 0.8 | 0.5 | 0.1 |\n| Randy Brown          | 96CHI | 27 |  2.7 |  9.9 | 0.406 | 0.0 | 1.1 | 0.4 |  1.0 | 1.1 | 0.8 | 0.2 |\n| James Edwards        | 96CHI | 40 |  3.5 |  9.8 | 0.373 | 0.0 | 1.5 | 0.6 |  1.4 | 0.4 | 0.0 | 0.3 |\n| Jason Caffey         | 96CHI | 22 |  3.2 |  9.6 | 0.438 | 0.0 | 1.2 | 0.7 |  1.9 | 0.4 | 0.2 | 0.1 |\n| Jack Haley           | 96CHI | 32 |  5.0 |  7.0 | 0.333 | 0.0 | 2.0 | 1.0 |  2.0 | 0.0 | 0.0 | 0.0 |\n| Klay Thompson        | 17GSW | 26 | 22.3 | 34.0 | 0.468 | 3.4 | 4.8 | 2.4 |  3.7 | 2.1 | 0.8 | 0.5 |\n| Stephen Curry        | 17GSW | 28 | 25.3 | 33.4 | 0.468 | 4.1 | 4.4 | 4.1 |  4.5 | 6.6 | 1.8 | 0.2 |\n| Kevin Durant         | 17GSW | 28 | 25.1 | 33.4 | 0.537 | 1.9 | 7.0 | 5.4 |  8.3 | 4.8 | 1.1 | 1.6 |\n| Draymond Green       | 17GSW | 26 | 10.2 | 32.5 | 0.418 | 1.1 | 2.5 | 2.0 |  7.9 | 7.0 | 2.0 | 1.4 |\n| Andre Iguodala       | 17GSW | 33 |  7.6 | 26.3 | 0.528 | 0.8 | 2.0 | 0.9 |  4.0 | 3.4 | 1.0 | 0.5 |\n| Matt Barnes          | 17GSW | 36 |  5.7 | 20.5 | 0.422 | 0.9 | 1.0 | 1.0 |  4.6 | 2.3 | 0.6 | 0.5 |\n| Zaza Pachulia        | 17GSW | 32 |  6.1 | 18.1 | 0.534 | 0.0 | 2.3 | 1.4 |  5.9 | 1.9 | 0.8 | 0.5 |\n| Shaun Livingston     | 17GSW | 31 |  5.1 | 17.7 | 0.547 | 0.0 | 2.3 | 0.6 |  2.0 | 1.8 | 0.5 | 0.3 |\n| Patrick McCaw        | 17GSW | 21 |  4.0 | 15.1 | 0.433 | 0.6 | 0.9 | 0.4 |  1.4 | 1.1 | 0.5 | 0.2 |\n| Ian Clark            | 17GSW | 25 |  6.8 | 14.8 | 0.487 | 0.8 | 1.9 | 0.6 |  1.6 | 1.2 | 0.5 | 0.1 |\n| David West           | 17GSW | 36 |  4.6 | 12.6 | 0.536 | 0.0 | 1.9 | 0.6 |  3.0 | 2.2 | 0.6 | 0.7 |\n| JaVale McGee         | 17GSW | 29 |  6.1 |  9.6 | 0.652 | 0.0 | 2.7 | 0.7 |  3.2 | 0.2 | 0.2 | 0.9 |\n| James Michael McAdoo | 17GSW | 24 |  2.8 |  8.8 | 0.530 | 0.0 | 1.2 | 0.4 |  1.7 | 0.3 | 0.3 | 0.6 |\n| Damian Jones         | 17GSW | 21 |  1.9 |  8.5 | 0.500 | 0.0 | 0.8 | 0.3 |  2.3 | 0.0 | 0.1 | 0.4 |\n| Kevon Looney         | 17GSW | 20 |  2.5 |  8.4 | 0.523 | 0.0 | 1.0 | 0.4 |  2.3 | 0.5 | 0.3 | 0.3 |\n| Anderson Varejao     | 17GSW | 34 |  1.3 |  6.6 | 0.357 | 0.0 | 0.4 | 0.6 |  1.9 | 0.7 | 0.2 | 0.2 |\n| Briante Weber        | 17GSW | 24 |  1.7 |  6.6 | 0.357 | 0.0 | 0.7 | 0.3 |  0.6 | 0.7 | 0.4 | 0.1 |\n\n",
            "text/html": [
              "<table class=\"dataframe\">\n",
              "<caption>A data.frame: 32 × 13</caption>\n",
              "<thead>\n",
              "\t<tr><th scope=col>name</th><th scope=col>team</th><th scope=col>age</th><th scope=col>points</th><th scope=col>minutesPlayed</th><th scope=col>fieldGoalPercentage</th><th scope=col>X3Pointers</th><th scope=col>X2Pointers</th><th scope=col>freeThrows</th><th scope=col>rebounds</th><th scope=col>assists</th><th scope=col>steals</th><th scope=col>blocks</th></tr>\n",
              "\t<tr><th scope=col>&lt;chr&gt;</th><th scope=col>&lt;chr&gt;</th><th scope=col>&lt;int&gt;</th><th scope=col>&lt;dbl&gt;</th><th scope=col>&lt;dbl&gt;</th><th scope=col>&lt;dbl&gt;</th><th scope=col>&lt;dbl&gt;</th><th scope=col>&lt;dbl&gt;</th><th scope=col>&lt;dbl&gt;</th><th scope=col>&lt;dbl&gt;</th><th scope=col>&lt;dbl&gt;</th><th scope=col>&lt;dbl&gt;</th><th scope=col>&lt;dbl&gt;</th></tr>\n",
              "</thead>\n",
              "<tbody>\n",
              "\t<tr><td>Michael Jordan      </td><td>96CHI</td><td>32</td><td>30.4</td><td>37.7</td><td>0.495</td><td>1.4</td><td>9.8</td><td>6.7</td><td> 6.6</td><td>4.3</td><td>2.2</td><td>0.5</td></tr>\n",
              "\t<tr><td>Scottie Pippen      </td><td>96CHI</td><td>30</td><td>19.4</td><td>36.7</td><td>0.463</td><td>1.9</td><td>5.4</td><td>2.9</td><td> 6.4</td><td>5.9</td><td>1.7</td><td>0.7</td></tr>\n",
              "\t<tr><td>Dennis Rodman       </td><td>96CHI</td><td>34</td><td> 5.5</td><td>32.6</td><td>0.480</td><td>0.0</td><td>2.2</td><td>0.9</td><td>14.9</td><td>2.5</td><td>0.6</td><td>0.4</td></tr>\n",
              "\t<tr><td>Luc Longley         </td><td>96CHI</td><td>27</td><td> 9.1</td><td>26.5</td><td>0.482</td><td>0.0</td><td>3.9</td><td>1.3</td><td> 5.1</td><td>1.9</td><td>0.4</td><td>1.4</td></tr>\n",
              "\t<tr><td>Toni Kukoc          </td><td>96CHI</td><td>27</td><td>13.1</td><td>26.0</td><td>0.490</td><td>1.1</td><td>3.7</td><td>2.5</td><td> 4.0</td><td>3.5</td><td>0.8</td><td>0.3</td></tr>\n",
              "\t<tr><td>Ron Harper          </td><td>96CHI</td><td>32</td><td> 7.4</td><td>23.6</td><td>0.467</td><td>0.4</td><td>2.6</td><td>1.2</td><td> 2.7</td><td>2.6</td><td>1.3</td><td>0.4</td></tr>\n",
              "\t<tr><td>Steve Kerr          </td><td>96CHI</td><td>30</td><td> 8.4</td><td>23.4</td><td>0.506</td><td>1.5</td><td>1.5</td><td>1.0</td><td> 1.3</td><td>2.3</td><td>0.8</td><td>0.0</td></tr>\n",
              "\t<tr><td>Bill Wennington     </td><td>96CHI</td><td>32</td><td> 5.3</td><td>15.0</td><td>0.493</td><td>0.0</td><td>2.4</td><td>0.5</td><td> 2.5</td><td>0.6</td><td>0.3</td><td>0.2</td></tr>\n",
              "\t<tr><td>Dickey Simpkins     </td><td>96CHI</td><td>23</td><td> 3.6</td><td>11.4</td><td>0.481</td><td>0.0</td><td>1.3</td><td>1.0</td><td> 2.6</td><td>0.6</td><td>0.2</td><td>0.1</td></tr>\n",
              "\t<tr><td>John Salley         </td><td>96CHI</td><td>31</td><td> 2.1</td><td>11.2</td><td>0.343</td><td>0.0</td><td>0.7</td><td>0.7</td><td> 2.5</td><td>0.9</td><td>0.5</td><td>0.9</td></tr>\n",
              "\t<tr><td>Jud Buechler        </td><td>96CHI</td><td>27</td><td> 3.8</td><td>10.0</td><td>0.463</td><td>0.5</td><td>1.0</td><td>0.2</td><td> 1.5</td><td>0.8</td><td>0.5</td><td>0.1</td></tr>\n",
              "\t<tr><td>Randy Brown         </td><td>96CHI</td><td>27</td><td> 2.7</td><td> 9.9</td><td>0.406</td><td>0.0</td><td>1.1</td><td>0.4</td><td> 1.0</td><td>1.1</td><td>0.8</td><td>0.2</td></tr>\n",
              "\t<tr><td>James Edwards       </td><td>96CHI</td><td>40</td><td> 3.5</td><td> 9.8</td><td>0.373</td><td>0.0</td><td>1.5</td><td>0.6</td><td> 1.4</td><td>0.4</td><td>0.0</td><td>0.3</td></tr>\n",
              "\t<tr><td>Jason Caffey        </td><td>96CHI</td><td>22</td><td> 3.2</td><td> 9.6</td><td>0.438</td><td>0.0</td><td>1.2</td><td>0.7</td><td> 1.9</td><td>0.4</td><td>0.2</td><td>0.1</td></tr>\n",
              "\t<tr><td>Jack Haley          </td><td>96CHI</td><td>32</td><td> 5.0</td><td> 7.0</td><td>0.333</td><td>0.0</td><td>2.0</td><td>1.0</td><td> 2.0</td><td>0.0</td><td>0.0</td><td>0.0</td></tr>\n",
              "\t<tr><td>Klay Thompson       </td><td>17GSW</td><td>26</td><td>22.3</td><td>34.0</td><td>0.468</td><td>3.4</td><td>4.8</td><td>2.4</td><td> 3.7</td><td>2.1</td><td>0.8</td><td>0.5</td></tr>\n",
              "\t<tr><td>Stephen Curry       </td><td>17GSW</td><td>28</td><td>25.3</td><td>33.4</td><td>0.468</td><td>4.1</td><td>4.4</td><td>4.1</td><td> 4.5</td><td>6.6</td><td>1.8</td><td>0.2</td></tr>\n",
              "\t<tr><td>Kevin Durant        </td><td>17GSW</td><td>28</td><td>25.1</td><td>33.4</td><td>0.537</td><td>1.9</td><td>7.0</td><td>5.4</td><td> 8.3</td><td>4.8</td><td>1.1</td><td>1.6</td></tr>\n",
              "\t<tr><td>Draymond Green      </td><td>17GSW</td><td>26</td><td>10.2</td><td>32.5</td><td>0.418</td><td>1.1</td><td>2.5</td><td>2.0</td><td> 7.9</td><td>7.0</td><td>2.0</td><td>1.4</td></tr>\n",
              "\t<tr><td>Andre Iguodala      </td><td>17GSW</td><td>33</td><td> 7.6</td><td>26.3</td><td>0.528</td><td>0.8</td><td>2.0</td><td>0.9</td><td> 4.0</td><td>3.4</td><td>1.0</td><td>0.5</td></tr>\n",
              "\t<tr><td>Matt Barnes         </td><td>17GSW</td><td>36</td><td> 5.7</td><td>20.5</td><td>0.422</td><td>0.9</td><td>1.0</td><td>1.0</td><td> 4.6</td><td>2.3</td><td>0.6</td><td>0.5</td></tr>\n",
              "\t<tr><td>Zaza Pachulia       </td><td>17GSW</td><td>32</td><td> 6.1</td><td>18.1</td><td>0.534</td><td>0.0</td><td>2.3</td><td>1.4</td><td> 5.9</td><td>1.9</td><td>0.8</td><td>0.5</td></tr>\n",
              "\t<tr><td>Shaun Livingston    </td><td>17GSW</td><td>31</td><td> 5.1</td><td>17.7</td><td>0.547</td><td>0.0</td><td>2.3</td><td>0.6</td><td> 2.0</td><td>1.8</td><td>0.5</td><td>0.3</td></tr>\n",
              "\t<tr><td>Patrick McCaw       </td><td>17GSW</td><td>21</td><td> 4.0</td><td>15.1</td><td>0.433</td><td>0.6</td><td>0.9</td><td>0.4</td><td> 1.4</td><td>1.1</td><td>0.5</td><td>0.2</td></tr>\n",
              "\t<tr><td>Ian Clark           </td><td>17GSW</td><td>25</td><td> 6.8</td><td>14.8</td><td>0.487</td><td>0.8</td><td>1.9</td><td>0.6</td><td> 1.6</td><td>1.2</td><td>0.5</td><td>0.1</td></tr>\n",
              "\t<tr><td>David West          </td><td>17GSW</td><td>36</td><td> 4.6</td><td>12.6</td><td>0.536</td><td>0.0</td><td>1.9</td><td>0.6</td><td> 3.0</td><td>2.2</td><td>0.6</td><td>0.7</td></tr>\n",
              "\t<tr><td>JaVale McGee        </td><td>17GSW</td><td>29</td><td> 6.1</td><td> 9.6</td><td>0.652</td><td>0.0</td><td>2.7</td><td>0.7</td><td> 3.2</td><td>0.2</td><td>0.2</td><td>0.9</td></tr>\n",
              "\t<tr><td>James Michael McAdoo</td><td>17GSW</td><td>24</td><td> 2.8</td><td> 8.8</td><td>0.530</td><td>0.0</td><td>1.2</td><td>0.4</td><td> 1.7</td><td>0.3</td><td>0.3</td><td>0.6</td></tr>\n",
              "\t<tr><td>Damian Jones        </td><td>17GSW</td><td>21</td><td> 1.9</td><td> 8.5</td><td>0.500</td><td>0.0</td><td>0.8</td><td>0.3</td><td> 2.3</td><td>0.0</td><td>0.1</td><td>0.4</td></tr>\n",
              "\t<tr><td>Kevon Looney        </td><td>17GSW</td><td>20</td><td> 2.5</td><td> 8.4</td><td>0.523</td><td>0.0</td><td>1.0</td><td>0.4</td><td> 2.3</td><td>0.5</td><td>0.3</td><td>0.3</td></tr>\n",
              "\t<tr><td>Anderson Varejao    </td><td>17GSW</td><td>34</td><td> 1.3</td><td> 6.6</td><td>0.357</td><td>0.0</td><td>0.4</td><td>0.6</td><td> 1.9</td><td>0.7</td><td>0.2</td><td>0.2</td></tr>\n",
              "\t<tr><td>Briante Weber       </td><td>17GSW</td><td>24</td><td> 1.7</td><td> 6.6</td><td>0.357</td><td>0.0</td><td>0.7</td><td>0.3</td><td> 0.6</td><td>0.7</td><td>0.4</td><td>0.1</td></tr>\n",
              "</tbody>\n",
              "</table>\n"
            ]
          },
          "metadata": {}
        }
      ]
    },
    {
      "cell_type": "markdown",
      "metadata": {
        "id": "DuYSTFNqOe3S"
      },
      "source": [
        "Run the next two lines to make new variables that have half of the dataset each, one for each team in the dataset. Don't worry about the details here, but after this, the '96 Bulls players will all be in \"bulls\" and the '17 Warriors players will all be in \"Warriors\""
      ]
    },
    {
      "cell_type": "code",
      "metadata": {
        "id": "ZuD3OUAGN0hm"
      },
      "source": [
        "bulls <- subset(greatestNBA, greatestNBA$team==\"96CHI\")\n",
        "warriors <- subset(greatestNBA, greatestNBA$team==\"17GSW\")"
      ],
      "execution_count": null,
      "outputs": []
    },
    {
      "cell_type": "markdown",
      "metadata": {
        "id": "uwSJ1zB2OmmH"
      },
      "source": [
        "Take a look at each dataset on their own (they are small)"
      ]
    },
    {
      "cell_type": "code",
      "metadata": {
        "id": "FtT0nPsoOmHa"
      },
      "source": [
        "bulls"
      ],
      "execution_count": null,
      "outputs": []
    },
    {
      "cell_type": "code",
      "metadata": {
        "id": "kyOSFCqJOtYb"
      },
      "source": [
        "warriors"
      ],
      "execution_count": null,
      "outputs": []
    },
    {
      "cell_type": "markdown",
      "metadata": {
        "id": "giy_u1wMOuzv"
      },
      "source": [
        "Here's how to calculate the mean of the Warriors points:"
      ]
    },
    {
      "cell_type": "code",
      "metadata": {
        "id": "YrLgV3dnOw59"
      },
      "source": [
        "mean(warriors$points)"
      ],
      "execution_count": null,
      "outputs": []
    },
    {
      "cell_type": "markdown",
      "metadata": {
        "id": "7XBOObUnO0aS"
      },
      "source": [
        "mean() is the function, warriors specifies the dataset and $points brings us to the points column.\n",
        "If you just tried mean(warriors), nothing would happen because there are many columns and if you just tried mean(points), it wouldn't work because you haven't said what dataset you are working with."
      ]
    },
    {
      "cell_type": "markdown",
      "metadata": {
        "id": "Fq5DRPV6PC0N"
      },
      "source": [
        "Now on the next couple lines you can check a bunch of things about the Bulls and the Warriors. \n",
        "Try these different functions below, and use them on different columns to come up with an argument: mean(), median(), quantile(), IQR(), range()"
      ]
    },
    {
      "cell_type": "code",
      "metadata": {
        "id": "kGI7-oPZPHJi"
      },
      "source": [
        ""
      ],
      "execution_count": null,
      "outputs": []
    },
    {
      "cell_type": "code",
      "metadata": {
        "id": "eV_9wUf7PISn"
      },
      "source": [
        ""
      ],
      "execution_count": null,
      "outputs": []
    },
    {
      "cell_type": "code",
      "metadata": {
        "id": "H5p_u8JwPIVN"
      },
      "source": [
        ""
      ],
      "execution_count": null,
      "outputs": []
    },
    {
      "cell_type": "code",
      "metadata": {
        "id": "5yExGnMRPIYA"
      },
      "source": [
        ""
      ],
      "execution_count": null,
      "outputs": []
    },
    {
      "cell_type": "code",
      "metadata": {
        "id": "ItVzfKNXPIbl"
      },
      "source": [
        ""
      ],
      "execution_count": null,
      "outputs": []
    },
    {
      "cell_type": "markdown",
      "metadata": {
        "id": "K1O32vpHPLJq"
      },
      "source": [
        "(if you need more, hit the [+ Code] button right up at the top)"
      ]
    },
    {
      "cell_type": "markdown",
      "metadata": {
        "id": "s3q2z-G2PTmw"
      },
      "source": [
        "You can also use boxplot() to plot a... box plot. To plot two things on a box plot next to each other, try boxplot(thing1,thing2).\n",
        "You can also use hist() to plot a... histogram! Try a couple."
      ]
    },
    {
      "cell_type": "code",
      "metadata": {
        "colab": {
          "base_uri": "https://localhost:8080/",
          "height": 437
        },
        "id": "f-oNEoTcPXuG",
        "outputId": "718d4408-5e26-4610-f919-0cc64d215b76"
      },
      "source": [
        "boxplot(warriors$points)"
      ],
      "execution_count": null,
      "outputs": [
        {
          "output_type": "display_data",
          "data": {
            "image/png": "[encoded data removed]",
            "text/plain": [
              "plot without title"
            ]
          },
          "metadata": {
            "image/png": {
              "width": 420,
              "height": 420
            }
          }
        }
      ]
    },
    {
      "cell_type": "code",
      "metadata": {
        "colab": {
          "base_uri": "https://localhost:8080/",
          "height": 437
        },
        "id": "60h663PuPj5Z",
        "outputId": "c72dc3fb-f442-4d3d-a7bc-fd94d77be7ff"
      },
      "source": [
        "boxplot(warriors$points, bulls$points)"
      ],
      "execution_count": null,
      "outputs": [
        {
          "output_type": "display_data",
          "data": {
            "image/png": "[encoded data removed]",
            "text/plain": [
              "plot without title"
            ]
          },
          "metadata": {
            "image/png": {
              "width": 420,
              "height": 420
            }
          }
        }
      ]
    }
  ]
}